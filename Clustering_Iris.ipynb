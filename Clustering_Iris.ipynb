{
 "cells": [
  {
   "cell_type": "markdown",
   "id": "8e5e8796",
   "metadata": {},
   "source": [
    "# Clustering Iris Dataset "
   ]
  },
  {
   "cell_type": "markdown",
   "id": "93186055",
   "metadata": {},
   "source": [
    "### Importing Libraries"
   ]
  },
  {
   "cell_type": "code",
   "execution_count": 2,
   "id": "1569fceb",
   "metadata": {},
   "outputs": [],
   "source": [
    "import numpy as np\n",
    "import matplotlib as mp\n",
    "import matplotlib.pyplot as plt\n",
    "import pandas as pd\n",
    "import seaborn as sns"
   ]
  },
  {
   "cell_type": "markdown",
   "id": "48d0250f",
   "metadata": {},
   "source": [
    "### Importing dataset"
   ]
  },
  {
   "cell_type": "code",
   "execution_count": 3,
   "id": "9f794fcc",
   "metadata": {
    "scrolled": false
   },
   "outputs": [
    {
     "data": {
      "text/html": [
       "<div>\n",
       "<style scoped>\n",
       "    .dataframe tbody tr th:only-of-type {\n",
       "        vertical-align: middle;\n",
       "    }\n",
       "\n",
       "    .dataframe tbody tr th {\n",
       "        vertical-align: top;\n",
       "    }\n",
       "\n",
       "    .dataframe thead th {\n",
       "        text-align: right;\n",
       "    }\n",
       "</style>\n",
       "<table border=\"1\" class=\"dataframe\">\n",
       "  <thead>\n",
       "    <tr style=\"text-align: right;\">\n",
       "      <th></th>\n",
       "      <th>sepal_length</th>\n",
       "      <th>sepal_width</th>\n",
       "      <th>petal_length</th>\n",
       "      <th>petal_width</th>\n",
       "      <th>species</th>\n",
       "    </tr>\n",
       "  </thead>\n",
       "  <tbody>\n",
       "    <tr>\n",
       "      <th>0</th>\n",
       "      <td>5.1</td>\n",
       "      <td>3.5</td>\n",
       "      <td>1.4</td>\n",
       "      <td>0.2</td>\n",
       "      <td>setosa</td>\n",
       "    </tr>\n",
       "    <tr>\n",
       "      <th>1</th>\n",
       "      <td>4.9</td>\n",
       "      <td>3.0</td>\n",
       "      <td>1.4</td>\n",
       "      <td>0.2</td>\n",
       "      <td>setosa</td>\n",
       "    </tr>\n",
       "    <tr>\n",
       "      <th>2</th>\n",
       "      <td>4.7</td>\n",
       "      <td>3.2</td>\n",
       "      <td>1.3</td>\n",
       "      <td>0.2</td>\n",
       "      <td>setosa</td>\n",
       "    </tr>\n",
       "    <tr>\n",
       "      <th>3</th>\n",
       "      <td>4.6</td>\n",
       "      <td>3.1</td>\n",
       "      <td>1.5</td>\n",
       "      <td>0.2</td>\n",
       "      <td>setosa</td>\n",
       "    </tr>\n",
       "    <tr>\n",
       "      <th>4</th>\n",
       "      <td>5.0</td>\n",
       "      <td>3.6</td>\n",
       "      <td>1.4</td>\n",
       "      <td>0.2</td>\n",
       "      <td>setosa</td>\n",
       "    </tr>\n",
       "    <tr>\n",
       "      <th>...</th>\n",
       "      <td>...</td>\n",
       "      <td>...</td>\n",
       "      <td>...</td>\n",
       "      <td>...</td>\n",
       "      <td>...</td>\n",
       "    </tr>\n",
       "    <tr>\n",
       "      <th>145</th>\n",
       "      <td>6.7</td>\n",
       "      <td>3.0</td>\n",
       "      <td>5.2</td>\n",
       "      <td>2.3</td>\n",
       "      <td>virginica</td>\n",
       "    </tr>\n",
       "    <tr>\n",
       "      <th>146</th>\n",
       "      <td>6.3</td>\n",
       "      <td>2.5</td>\n",
       "      <td>5.0</td>\n",
       "      <td>1.9</td>\n",
       "      <td>virginica</td>\n",
       "    </tr>\n",
       "    <tr>\n",
       "      <th>147</th>\n",
       "      <td>6.5</td>\n",
       "      <td>3.0</td>\n",
       "      <td>5.2</td>\n",
       "      <td>2.0</td>\n",
       "      <td>virginica</td>\n",
       "    </tr>\n",
       "    <tr>\n",
       "      <th>148</th>\n",
       "      <td>6.2</td>\n",
       "      <td>3.4</td>\n",
       "      <td>5.4</td>\n",
       "      <td>2.3</td>\n",
       "      <td>virginica</td>\n",
       "    </tr>\n",
       "    <tr>\n",
       "      <th>149</th>\n",
       "      <td>5.9</td>\n",
       "      <td>3.0</td>\n",
       "      <td>5.1</td>\n",
       "      <td>1.8</td>\n",
       "      <td>virginica</td>\n",
       "    </tr>\n",
       "  </tbody>\n",
       "</table>\n",
       "<p>150 rows × 5 columns</p>\n",
       "</div>"
      ],
      "text/plain": [
       "     sepal_length  sepal_width  petal_length  petal_width    species\n",
       "0             5.1          3.5           1.4          0.2     setosa\n",
       "1             4.9          3.0           1.4          0.2     setosa\n",
       "2             4.7          3.2           1.3          0.2     setosa\n",
       "3             4.6          3.1           1.5          0.2     setosa\n",
       "4             5.0          3.6           1.4          0.2     setosa\n",
       "..            ...          ...           ...          ...        ...\n",
       "145           6.7          3.0           5.2          2.3  virginica\n",
       "146           6.3          2.5           5.0          1.9  virginica\n",
       "147           6.5          3.0           5.2          2.0  virginica\n",
       "148           6.2          3.4           5.4          2.3  virginica\n",
       "149           5.9          3.0           5.1          1.8  virginica\n",
       "\n",
       "[150 rows x 5 columns]"
      ]
     },
     "metadata": {},
     "output_type": "display_data"
    }
   ],
   "source": [
    "dataset = sns.load_dataset(\"iris\")\n",
    "display(dataset)"
   ]
  },
  {
   "cell_type": "markdown",
   "id": "e5a243d1",
   "metadata": {},
   "source": [
    "### Null Check"
   ]
  },
  {
   "cell_type": "code",
   "execution_count": 5,
   "id": "1e0eca5c",
   "metadata": {},
   "outputs": [
    {
     "data": {
      "text/plain": [
       "sepal_length    0\n",
       "sepal_width     0\n",
       "petal_length    0\n",
       "petal_width     0\n",
       "species         0\n",
       "dtype: int64"
      ]
     },
     "execution_count": 5,
     "metadata": {},
     "output_type": "execute_result"
    }
   ],
   "source": [
    "dataset.isnull().sum()\n",
    "\n",
    "#From the null value chack we can see that there are no null values in the datasets."
   ]
  },
  {
   "cell_type": "markdown",
   "id": "85028021",
   "metadata": {},
   "source": [
    "### Encoding"
   ]
  },
  {
   "cell_type": "code",
   "execution_count": 6,
   "id": "05396706",
   "metadata": {},
   "outputs": [],
   "source": [
    "dataset['species'] = dataset['species'].replace(['setosa', 'versicolor', 'virginica'],[1, 2, 3])\n",
    "\n",
    "#We perform encoding above as the algorithm would not read string values. So, we encode the values 0, 1 and 2 to Setosa, \n",
    "#Versicolor and Virginica respictively."
   ]
  },
  {
   "cell_type": "markdown",
   "id": "d9ab2ea1",
   "metadata": {},
   "source": [
    "### Splitting the data"
   ]
  },
  {
   "cell_type": "code",
   "execution_count": 7,
   "id": "9932a134",
   "metadata": {},
   "outputs": [],
   "source": [
    "X = dataset.iloc[:, [0,2]].values\n",
    "\n",
    "#1) Here, we need to understand that all the columns are needed only for clustering. Unlike a regression problem we aren't \n",
    "#trying to determine any value from the independent variables and their relation. We will simple classify the different \n",
    "#customers from the datasets. So, from the variable X, we will be including all the ROWS and COLUMNS.\n",
    "\n",
    "#2) Since the predition of the model will be done on a 2D graph, we will be considering only 2 independent features from the\n",
    "#table as multiple variables will need multiple dimesions to display on a 2D graph."
   ]
  },
  {
   "cell_type": "markdown",
   "id": "c2b030b8",
   "metadata": {},
   "source": [
    "### Using Elbow method to find optimal number of clusters \n"
   ]
  },
  {
   "cell_type": "code",
   "execution_count": 23,
   "id": "14909377",
   "metadata": {},
   "outputs": [
    {
     "name": "stderr",
     "output_type": "stream",
     "text": [
      "D:\\Setups\\Anaconda\\Application\\lib\\site-packages\\sklearn\\cluster\\_kmeans.py:881: UserWarning: KMeans is known to have a memory leak on Windows with MKL, when there are less chunks than available threads. You can avoid it by setting the environment variable OMP_NUM_THREADS=1.\n",
      "  warnings.warn(\n"
     ]
    }
   ],
   "source": [
    "from sklearn.cluster import KMeans\n",
    "WCSS = []\n",
    "for i in range(1,10):\n",
    "    kmeans = KMeans(n_clusters = i, init = 'k-means++', random_state = 42) #The value of K can be anything. Purpose of 42 = ?\n",
    "    kmeans.fit(X)\n",
    "    WCSS.append(kmeans.inertia_)\n",
    "    \n",
    "#We know that the maximum number of clusters that can be formed are 3 from the dataset. (i.e) - Setosa, Versicolor, Virginica,\n",
    "#we will give the range of values to be plotted over the x-axis at 10."
   ]
  },
  {
   "cell_type": "markdown",
   "id": "362a0686",
   "metadata": {},
   "source": [
    "### Elbow Method Plotting"
   ]
  },
  {
   "cell_type": "code",
   "execution_count": 24,
   "id": "faad75f2",
   "metadata": {},
   "outputs": [
    {
     "data": {
      "image/png": "[encoded data removed]",
      "text/plain": [
       "<Figure size 432x288 with 1 Axes>"
      ]
     },
     "metadata": {
      "needs_background": "light"
     },
     "output_type": "display_data"
    }
   ],
   "source": [
    "'''\n",
    "In the Elbow Method, for the selection of clusters - 'K' for a given model, we plot the graphs to find the WCSS value against\n",
    "the number of clusters. And the least value after which the change is very negligable, we mark the point at which the number of\n",
    "clusters gets defined for a given model.\n",
    "\n",
    "This is one of a classical methods and usually we get arbitrary values unlike the graph. So, we need to be calculative to choose\n",
    "the right number of clusters according to the type of data-points we will have according to the dataaset.\n",
    "'''\n",
    "\n",
    "frame = pd.DataFrame({'Cluster': range(1,10), 'SSE':WCSS})\n",
    "plt.plot(frame['Cluster'], frame['SSE'])#, marker='o')\n",
    "plt.title('The ELBOW Method')\n",
    "plt.xlabel('No. of Clusters')\n",
    "plt.ylabel('WCSS Value')\n",
    "plt.show()"
   ]
  },
  {
   "cell_type": "markdown",
   "id": "edc92e9c",
   "metadata": {},
   "source": [
    "### Training the DataSet"
   ]
  },
  {
   "cell_type": "code",
   "execution_count": 30,
   "id": "f4f9776d",
   "metadata": {},
   "outputs": [
    {
     "name": "stdout",
     "output_type": "stream",
     "text": [
      "[1 1 1 1 1 1 1 1 1 1 1 1 1 1 1 1 1 1 1 1 1 1 1 1 1 1 1 1 1 1 1 1 1 1 1 1 1\n",
      " 1 1 1 1 1 1 1 1 1 1 1 1 1 0 2 0 2 2 2 2 2 2 2 2 2 2 2 2 2 2 2 2 2 2 2 2 2\n",
      " 2 2 0 0 2 2 2 2 2 2 2 2 2 2 2 2 2 2 2 2 2 2 2 2 1 2 0 2 0 0 0 0 2 0 0 0 0\n",
      " 0 0 2 2 0 0 0 0 2 0 2 0 2 0 0 2 2 0 0 0 0 0 0 0 0 0 0 2 0 0 0 2 0 0 0 2 0\n",
      " 0 2]\n"
     ]
    }
   ],
   "source": [
    "kmeans = KMeans(n_clusters = 3, init = 'k-means++', random_state = 1002)\n",
    "Predicted = kmeans.fit_predict(X)\n",
    "print(Predicted)\n",
    "\n",
    "#From the encoding above, the values 0, 1 and 2 correspond to Setosa, Versicolor and Virginica."
   ]
  },
  {
   "cell_type": "markdown",
   "id": "a6aa04f4",
   "metadata": {},
   "source": [
    "## Visualizing the Clusters"
   ]
  },
  {
   "cell_type": "markdown",
   "id": "982005ca",
   "metadata": {},
   "source": [
    "### Plotting Data Points and Centroids"
   ]
  },
  {
   "cell_type": "code",
   "execution_count": 33,
   "id": "98e29b03",
   "metadata": {},
   "outputs": [
    {
     "data": {
      "image/png": "[encoded data removed]",
      "text/plain": [
       "<Figure size 432x288 with 1 Axes>"
      ]
     },
     "metadata": {
      "needs_background": "light"
     },
     "output_type": "display_data"
    }
   ],
   "source": [
    "plt.scatter(X[Predicted == 0, 0], X[Predicted == 0, 1], s = 100, c = 'red', label = 'Setosa')\n",
    "plt.scatter(X[Predicted == 1, 0], X[Predicted == 1, 1], s = 100, c = 'yellow', label = 'Versicolor')\n",
    "plt.scatter(X[Predicted == 2, 0], X[Predicted == 2, 1], s = 100, c = 'green', label = 'Virginica')\n",
    "\n",
    "plt.scatter(kmeans.cluster_centers_[:, 0], kmeans.cluster_centers_[:, 1], s = 100, c = 'black', label = 'Centroids')\n",
    "plt.title('Clustering using the Sepal Length and Petal Length')\n",
    "plt.xlabel('')\n",
    "plt.ylabel('Spending Score (1-100)')\n",
    "plt.legend()\n",
    "plt.show()"
   ]
  }
 ],
 "metadata": {
  "kernelspec": {
   "display_name": "Python 3 (ipykernel)",
   "language": "python",
   "name": "python3"
  },
  "language_info": {
   "codemirror_mode": {
    "name": "ipython",
    "version": 3
   },
   "file_extension": ".py",
   "mimetype": "text/x-python",
   "name": "python",
   "nbconvert_exporter": "python",
   "pygments_lexer": "ipython3",
   "version": "3.9.7"
  }
 },
 "nbformat": 4,
 "nbformat_minor": 5
}
